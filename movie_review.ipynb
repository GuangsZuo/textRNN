{
 "cells": [
  {
   "cell_type": "code",
   "execution_count": 1,
   "metadata": {},
   "outputs": [],
   "source": [
    "from text_processing import *\n",
    "import os\n",
    "os.environ[\"CUDA_VISIBLE_DEVICES\"]=\"\"\n",
    "embeding_file=\"./glove.840B.300d.txt\"\n",
    "embed_size = 300\n",
    "max_words = 20000\n",
    "sentence_size = 30\n",
    "model_file = \"./best_model.hdf5\"\n",
    "is_first = 1"
   ]
  },
  {
   "cell_type": "code",
   "execution_count": 2,
   "metadata": {},
   "outputs": [
    {
     "name": "stderr",
     "output_type": "stream",
     "text": [
      "/home/LAB/zuogs/mypyenv/lib/python3.5/site-packages/ipykernel_launcher.py:12: FutureWarning: reshape is deprecated and will raise in a subsequent release. Please use .values.reshape(...) instead\n",
      "  if sys.path[0] == '':\n",
      "/home/LAB/zuogs/mypyenv/lib/python3.5/site-packages/h5py/__init__.py:36: FutureWarning: Conversion of the second argument of issubdtype from `float` to `np.floating` is deprecated. In future, it will be treated as `np.float64 == np.dtype(float).type`.\n",
      "  from ._conv import register_converters as _register_converters\n",
      "Using TensorFlow backend.\n"
     ]
    }
   ],
   "source": [
    "if is_first:\n",
    "    neg = pd.read_csv(\"./data/MR/mr.neg\", delimiter=\"\\n\", encoding=\"ISO-8859-1\", header=None)\n",
    "    pos = pd.read_csv(\"./data/MR/mr.pos\", delimiter=\"\\n\", encoding=\"ISO-8859-1\", header=None)\n",
    "\n",
    "    neg = neg.rename(index=str, columns={0: \"text\"})\n",
    "    pos = pos.rename(index=str, columns={0: \"text\"})\n",
    "\n",
    "    neg[\"label\"] = 0\n",
    "    pos[\"label\"] = 1\n",
    "\n",
    "    data = pd.concat([neg,pos]).sample(frac=1).reset_index(drop=True)\n",
    "    labels = data[\"label\"].reshape(-1,1)\n",
    "    word_sequence, word_index = tokenize(data[\"text\"], max_words, sentence_size)\n",
    "    train_data, test_data = word_sequence[:word_sequence.shape[0]-1000], word_sequence[-1000:]\n",
    "\n",
    "    word_embeding,max_words = get_word_embding(word_index, embeding_file, max_words, embed_size)\n",
    "\n",
    "    np.save(\"embeding-300d\",word_embeding)\n",
    "    np.save(\"train_data\",train_data)\n",
    "    np.save(\"test_data\",test_data)\n",
    "    np.save(\"labels\",labels)\n",
    "else:\n",
    "    word_embeding = np.load(\"embeding-300d.npy\")\n",
    "    train_data = np.load(\"train_data.npy\")\n",
    "    test_data = np.load(\"test_data.npy\")\n",
    "    labels = np.load(\"labels.npy\")\n",
    "    max_words = word_embeding.shape[0]"
   ]
  },
  {
   "cell_type": "code",
   "execution_count": 3,
   "metadata": {
    "scrolled": false
   },
   "outputs": [
    {
     "name": "stdout",
     "output_type": "stream",
     "text": [
      "model has been created.\n"
     ]
    },
    {
     "name": "stderr",
     "output_type": "stream",
     "text": [
      "136it [00:11, 11.92it/s]\n"
     ]
    },
    {
     "name": "stdout",
     "output_type": "stream",
     "text": [
      "Epoch 1: train loss : 0.505422, val loss: 0.467052\n",
      "*** New best score ***\n",
      "\n"
     ]
    },
    {
     "name": "stderr",
     "output_type": "stream",
     "text": [
      "136it [00:10, 12.37it/s]\n"
     ]
    },
    {
     "name": "stdout",
     "output_type": "stream",
     "text": [
      "Epoch 2: train loss : 0.403821, val loss: 0.410470\n",
      "*** New best score ***\n",
      "\n"
     ]
    },
    {
     "name": "stderr",
     "output_type": "stream",
     "text": [
      "136it [00:11, 12.20it/s]\n"
     ]
    },
    {
     "name": "stdout",
     "output_type": "stream",
     "text": [
      "Epoch 3: train loss : 0.308154, val loss: 0.337906\n",
      "*** New best score ***\n",
      "\n"
     ]
    },
    {
     "name": "stderr",
     "output_type": "stream",
     "text": [
      "136it [00:11, 12.21it/s]\n"
     ]
    },
    {
     "name": "stdout",
     "output_type": "stream",
     "text": [
      "Epoch 4: train loss : 0.187079, val loss: 0.242947\n",
      "*** New best score ***\n",
      "\n"
     ]
    },
    {
     "name": "stderr",
     "output_type": "stream",
     "text": [
      "136it [00:11, 12.31it/s]\n",
      "2it [00:00, 13.88it/s]"
     ]
    },
    {
     "name": "stdout",
     "output_type": "stream",
     "text": [
      "Epoch 5: train loss : 0.137090, val loss: 0.257339\n"
     ]
    },
    {
     "name": "stderr",
     "output_type": "stream",
     "text": [
      "136it [00:11, 12.24it/s]\n",
      "0it [00:00, ?it/s]"
     ]
    },
    {
     "name": "stdout",
     "output_type": "stream",
     "text": [
      "Epoch 6: train loss : 0.121806, val loss: 0.154292\n",
      "*** New best score ***\n",
      "\n"
     ]
    },
    {
     "name": "stderr",
     "output_type": "stream",
     "text": [
      "136it [00:10, 12.66it/s]\n"
     ]
    },
    {
     "name": "stdout",
     "output_type": "stream",
     "text": [
      "Epoch 7: train loss : 0.109298, val loss: 0.087610\n",
      "*** New best score ***\n",
      "\n"
     ]
    },
    {
     "name": "stderr",
     "output_type": "stream",
     "text": [
      "136it [00:11, 12.04it/s]\n"
     ]
    },
    {
     "name": "stdout",
     "output_type": "stream",
     "text": [
      "Epoch 8: train loss : 0.072492, val loss: 0.066720\n",
      "*** New best score ***\n",
      "\n"
     ]
    },
    {
     "name": "stderr",
     "output_type": "stream",
     "text": [
      "136it [00:11, 12.31it/s]\n",
      "0it [00:00, ?it/s]"
     ]
    },
    {
     "name": "stdout",
     "output_type": "stream",
     "text": [
      "Epoch 9: train loss : 0.021247, val loss: 0.031506\n",
      "*** New best score ***\n",
      "\n"
     ]
    },
    {
     "name": "stderr",
     "output_type": "stream",
     "text": [
      "136it [00:11, 12.06it/s]\n"
     ]
    },
    {
     "name": "stdout",
     "output_type": "stream",
     "text": [
      "Epoch 10: train loss : 0.008147, val loss: 0.011233\n",
      "*** New best score ***\n",
      "\n"
     ]
    },
    {
     "name": "stderr",
     "output_type": "stream",
     "text": [
      "136it [00:10, 12.39it/s]\n"
     ]
    },
    {
     "name": "stdout",
     "output_type": "stream",
     "text": [
      "Epoch 11: train loss : 0.002631, val loss: 0.005203\n",
      "*** New best score ***\n",
      "\n"
     ]
    },
    {
     "name": "stderr",
     "output_type": "stream",
     "text": [
      "136it [00:10, 12.37it/s]\n"
     ]
    },
    {
     "name": "stdout",
     "output_type": "stream",
     "text": [
      "Epoch 12: train loss : 0.001274, val loss: 0.003332\n",
      "*** New best score ***\n",
      "\n"
     ]
    },
    {
     "name": "stderr",
     "output_type": "stream",
     "text": [
      "136it [00:10, 12.52it/s]\n"
     ]
    },
    {
     "name": "stdout",
     "output_type": "stream",
     "text": [
      "Epoch 13: train loss : 0.000907, val loss: 0.002509\n",
      "*** New best score ***\n",
      "\n"
     ]
    },
    {
     "name": "stderr",
     "output_type": "stream",
     "text": [
      "136it [00:11, 12.16it/s]\n"
     ]
    },
    {
     "name": "stdout",
     "output_type": "stream",
     "text": [
      "Epoch 14: train loss : 0.000700, val loss: 0.001961\n",
      "*** New best score ***\n",
      "\n"
     ]
    },
    {
     "name": "stderr",
     "output_type": "stream",
     "text": [
      "136it [00:11, 12.10it/s]\n"
     ]
    },
    {
     "name": "stdout",
     "output_type": "stream",
     "text": [
      "Epoch 15: train loss : 0.000549, val loss: 0.001547\n",
      "*** New best score ***\n",
      "\n"
     ]
    },
    {
     "name": "stderr",
     "output_type": "stream",
     "text": [
      "136it [00:11, 12.30it/s]\n"
     ]
    },
    {
     "name": "stdout",
     "output_type": "stream",
     "text": [
      "Epoch 16: train loss : 0.000431, val loss: 0.001227\n",
      "*** New best score ***\n",
      "\n"
     ]
    },
    {
     "name": "stderr",
     "output_type": "stream",
     "text": [
      "136it [00:11, 12.20it/s]\n"
     ]
    },
    {
     "name": "stdout",
     "output_type": "stream",
     "text": [
      "Epoch 17: train loss : 0.000338, val loss: 0.000969\n",
      "*** New best score ***\n",
      "\n"
     ]
    },
    {
     "name": "stderr",
     "output_type": "stream",
     "text": [
      "136it [00:10, 12.46it/s]\n",
      "0it [00:00, ?it/s]"
     ]
    },
    {
     "name": "stdout",
     "output_type": "stream",
     "text": [
      "Epoch 18: train loss : 0.000263, val loss: 0.000763\n",
      "*** New best score ***\n",
      "\n"
     ]
    },
    {
     "name": "stderr",
     "output_type": "stream",
     "text": [
      "136it [00:10, 12.44it/s]\n"
     ]
    },
    {
     "name": "stdout",
     "output_type": "stream",
     "text": [
      "Epoch 19: train loss : 0.000204, val loss: 0.000599\n",
      "*** New best score ***\n",
      "\n"
     ]
    },
    {
     "name": "stderr",
     "output_type": "stream",
     "text": [
      "136it [00:10, 12.66it/s]\n"
     ]
    },
    {
     "name": "stdout",
     "output_type": "stream",
     "text": [
      "Epoch 20: train loss : 0.000158, val loss: 0.000472\n",
      "*** New best score ***\n",
      "\n",
      "INFO:tensorflow:Restoring parameters from ./best_model.hdf5\n",
      "<class 'numpy.ndarray'>\n"
     ]
    }
   ],
   "source": [
    "from algo import textrnn_algo\n",
    "import tensorflow as tf\n",
    "tf.reset_default_graph()\n",
    "algo = textrnn_algo(train_data,labels[:train_data.shape[0]], word_embeding, model_file, classes=1, sentence_length=sentence_size,\n",
    "                    embed_size=embed_size, target_is_prob=False, word_size=max_words,\n",
    "                    is_sigmoid_loss=True, learning_rate=1e-3, epoch=20, early_stopping_rounds=5,optimizer=tf.train.AdamOptimizer,\n",
    "                    batch_size=64)\n",
    "algo.model_train()\n",
    "result = algo.model_predict(test_data)"
   ]
  },
  {
   "cell_type": "code",
   "execution_count": 4,
   "metadata": {},
   "outputs": [
    {
     "name": "stdout",
     "output_type": "stream",
     "text": [
      "roc_auc_score :  0.8964933761541549\n",
      "accuracy :  0.816\n"
     ]
    }
   ],
   "source": [
    "from sklearn.metrics import log_loss, roc_auc_score, accuracy_score\n",
    "print(\"roc_auc_score : \", roc_auc_score(labels[-1000:], result))\n",
    "pred_label = result>0.5\n",
    "print(\"accuracy : \",accuracy_score(labels[-1000:], pred_label))"
   ]
  }
 ],
 "metadata": {
  "kernelspec": {
   "display_name": "Python 3",
   "language": "python",
   "name": "python3"
  },
  "language_info": {
   "codemirror_mode": {
    "name": "ipython",
    "version": 3
   },
   "file_extension": ".py",
   "mimetype": "text/x-python",
   "name": "python",
   "nbconvert_exporter": "python",
   "pygments_lexer": "ipython3",
   "version": "3.5.2"
  }
 },
 "nbformat": 4,
 "nbformat_minor": 2
}
